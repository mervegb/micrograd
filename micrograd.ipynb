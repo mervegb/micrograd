{
  "nbformat": 4,
  "nbformat_minor": 0,
  "metadata": {
    "colab": {
      "provenance": [],
      "authorship_tag": "ABX9TyPXLhhdFM0l1SQNTQYPUUAL",
      "include_colab_link": true
    },
    "kernelspec": {
      "name": "python3",
      "display_name": "Python 3"
    },
    "language_info": {
      "name": "python"
    }
  },
  "cells": [
    {
      "cell_type": "markdown",
      "metadata": {
        "id": "view-in-github",
        "colab_type": "text"
      },
      "source": [
        "<a href=\"https://colab.research.google.com/github/mervegb/micrograd/blob/main/micrograd.ipynb\" target=\"_parent\"><img src=\"https://colab.research.google.com/assets/colab-badge.svg\" alt=\"Open In Colab\"/></a>"
      ]
    },
    {
      "cell_type": "code",
      "execution_count": 2,
      "metadata": {
        "id": "BOfzao9xS5gw"
      },
      "outputs": [],
      "source": [
        "import math\n",
        "import numpy as np\n",
        "import matplotlib.pyplot as plt\n",
        "%matplotlib inline"
      ]
    },
    {
      "cell_type": "code",
      "source": [
        "def f(x):\n",
        "  return 3*x**2 - 4*x + 5"
      ],
      "metadata": {
        "id": "fwW5_vIGKABH"
      },
      "execution_count": 3,
      "outputs": []
    },
    {
      "cell_type": "code",
      "source": [
        "f(3.0)"
      ],
      "metadata": {
        "colab": {
          "base_uri": "https://localhost:8080/"
        },
        "id": "ZsLfq-_XKD_k",
        "outputId": "6baa68d9-6cc4-4cc5-e8d9-528d183acf4b"
      },
      "execution_count": 4,
      "outputs": [
        {
          "output_type": "execute_result",
          "data": {
            "text/plain": [
              "20.0"
            ]
          },
          "metadata": {},
          "execution_count": 4
        }
      ]
    },
    {
      "cell_type": "code",
      "source": [
        "xs = np.arange(-5,5,0.25)\n",
        "ys = f(xs)\n",
        "plt.plot(xs,ys)"
      ],
      "metadata": {
        "colab": {
          "base_uri": "https://localhost:8080/",
          "height": 448
        },
        "id": "VwGr8Ub0KHH1",
        "outputId": "66174bca-26f6-4e73-8b32-570dcd4be316"
      },
      "execution_count": 5,
      "outputs": [
        {
          "output_type": "execute_result",
          "data": {
            "text/plain": [
              "[<matplotlib.lines.Line2D at 0x7986241e8f70>]"
            ]
          },
          "metadata": {},
          "execution_count": 5
        },
        {
          "output_type": "display_data",
          "data": {
            "text/plain": [
              "<Figure size 640x480 with 1 Axes>"
            ],
            "image/png": "[encoded data removed]"
          },
          "metadata": {}
        }
      ]
    },
    {
      "cell_type": "code",
      "source": [
        "a = 2.0\n",
        "b=-3.0\n",
        "c=10.0\n",
        "d = a*b +c\n",
        "print(d)"
      ],
      "metadata": {
        "colab": {
          "base_uri": "https://localhost:8080/"
        },
        "id": "LI3orqwQLC2W",
        "outputId": "57eeec55-17c0-4887-b61e-a29dac013abd"
      },
      "execution_count": 6,
      "outputs": [
        {
          "output_type": "stream",
          "name": "stdout",
          "text": [
            "4.0\n"
          ]
        }
      ]
    },
    {
      "cell_type": "code",
      "source": [
        "h=0.001\n",
        "a = 2.0\n",
        "b=-3.0\n",
        "c=10.0\n",
        "\n",
        "d1 = a*b +c\n",
        "c+=h\n",
        "d2 = a*b +c\n",
        "\n",
        "print(\"d1\",d1)\n",
        "print(\"d2\",d2)\n",
        "print(\"slope\", (d2-d1)/h)"
      ],
      "metadata": {
        "colab": {
          "base_uri": "https://localhost:8080/"
        },
        "id": "nsmRT7QNML3o",
        "outputId": "7fced4b6-d9ae-4072-9a26-d1888420f2a7"
      },
      "execution_count": 7,
      "outputs": [
        {
          "output_type": "stream",
          "name": "stdout",
          "text": [
            "d1 4.0\n",
            "d2 4.0009999999999994\n",
            "slope 0.9999999999994458\n"
          ]
        }
      ]
    },
    {
      "cell_type": "code",
      "source": [
        "class Value:\n",
        "  def __init__(self,data,_children=(),_op='',label=''):\n",
        "    self.data = data\n",
        "    self.grad = 0.0\n",
        "    self._backward = lambda: None #empty function\n",
        "    self._prev = set(_children)\n",
        "    self._op = _op\n",
        "    self.label = label\n",
        "\n",
        "  def __repr__(self):\n",
        "    return f\"Value(data = {self.data})\"\n",
        "\n",
        "  #when you add two numbers the gradient with respect to either input is 1\n",
        "  #that means if you increase either of the inputs by small amount, the output will increase by the same amount\n",
        "  def __add__(self, other):\n",
        "    #if other is instance of value keep, otherwise we'll assume that it's a number like an integer\n",
        "    other = other if isinstance(other,Value) else Value(other)\n",
        "    output = Value(self.data + other.data, (self, other),\"+\")\n",
        "\n",
        "    def _backward():\n",
        "      self.grad += 1.0 * output.grad\n",
        "      other.grad += 1.0 * output.grad\n",
        "\n",
        "    output._backward = _backward\n",
        "    return output\n",
        "\n",
        "  def __mul__(self,other):\n",
        "    other = other if isinstance(other,Value) else Value(other)\n",
        "    output = Value(self.data * other.data, (self,other), \"*\")\n",
        "\n",
        "    def _backward():\n",
        "      self.grad += other.data * output.grad\n",
        "      other.grad += self.data * output.grad\n",
        "\n",
        "    output._backward = _backward\n",
        "    return output\n",
        "\n",
        "  #it defines\n",
        "  def __rmul__(self,other):\n",
        "    return self * other\n",
        "\n",
        "  #self/other\n",
        "  def __truediv__(self,other):\n",
        "    return self * other**1\n",
        "\n",
        "  def __neg__(self):\n",
        "    return self * -1\n",
        "\n",
        "  #subtraction (self-other)\n",
        "  def __sub__(self,other):\n",
        "    return self + (-other)\n",
        "\n",
        "  #derivative of x^n with respect to x, where n is a constant\n",
        "  def __pow__(self,other):\n",
        "    assert isinstance(other, (int, float)), \"only supporting int/float powers for now\"\n",
        "    output = Value(self.data**other, (self,), f'**{other}')\n",
        "\n",
        "    def _backward():\n",
        "      self.grad += other * (self.data ** (other-1)) * output.grad\n",
        "      output._backward = _backward\n",
        "\n",
        "    return output\n",
        "\n",
        "  #performs backpropagation\n",
        "  def backward(self):\n",
        "    topo = []\n",
        "    visited = set()\n",
        "\n",
        "    def build_topo(v):\n",
        "      if v not in visited:\n",
        "        visited.add(v)\n",
        "        for child in v._prev:\n",
        "          build_topo(child)\n",
        "        topo.append(v)\n",
        "\n",
        "    build_topo(self)\n",
        "\n",
        "    self.grad = 1.0\n",
        "    for node in reversed(topo):\n",
        "      node._backward()\n",
        "\n",
        "\n",
        "  #activation function\n",
        "  def tanh(self):\n",
        "    x = self.data\n",
        "    t = (math.exp(2*x) - 1)/(math.exp(2*x) +1)\n",
        "    output = Value(t, (self,), 'tanh')\n",
        "\n",
        "    def _backward():\n",
        "      self.grad += (1 - t**2) * output.grad\n",
        "\n",
        "    output._backward = _backward #we are storing the function itself so that we can call it later in backpropagation\n",
        "    return output\n",
        "\n",
        "  def exp(self):\n",
        "    x = self.data\n",
        "    output = Value(math.exp(x), (self,), 'exp')\n",
        "\n",
        "    def _backward():\n",
        "      self.grad += output.data * output.grad\n",
        "    output._backward = _backward\n",
        "\n",
        "    return output\n",
        "\n",
        "a = Value(2.0, label='a')\n",
        "b = Value(-3.0, label='b')\n",
        "c = Value(10.0,label='c')\n",
        "e = a*b; e.label= 'e'\n",
        "d = a*b + c; d.label='d'\n",
        "f = Value(-2.0, label='f')\n",
        "L = d *f; L.label='L'\n",
        "L"
      ],
      "metadata": {
        "colab": {
          "base_uri": "https://localhost:8080/"
        },
        "id": "_9QpoPf_Nx9y",
        "outputId": "04103b30-7b3b-456d-c8db-06561233c831"
      },
      "execution_count": 8,
      "outputs": [
        {
          "output_type": "execute_result",
          "data": {
            "text/plain": [
              "Value(data = -8.0)"
            ]
          },
          "metadata": {},
          "execution_count": 8
        }
      ]
    },
    {
      "cell_type": "code",
      "source": [
        "a = Value(2.0)\n",
        "b = Value(4.0)\n",
        "a-b"
      ],
      "metadata": {
        "colab": {
          "base_uri": "https://localhost:8080/"
        },
        "id": "PPtxJr9_sCXq",
        "outputId": "10fe8fb5-641f-4761-e520-b7d62fafb85d"
      },
      "execution_count": 9,
      "outputs": [
        {
          "output_type": "execute_result",
          "data": {
            "text/plain": [
              "Value(data = -2.0)"
            ]
          },
          "metadata": {},
          "execution_count": 9
        }
      ]
    },
    {
      "cell_type": "code",
      "source": [
        "from graphviz import Digraph\n",
        "\n",
        "def trace(root):\n",
        "  # builds a set of all nodes and edges in a graph\n",
        "  nodes, edges = set(), set()\n",
        "  def build(v):\n",
        "    if v not in nodes:\n",
        "      nodes.add(v)\n",
        "      for child in v._prev:\n",
        "        edges.add((child, v))\n",
        "        build(child)\n",
        "  build(root)\n",
        "  return nodes, edges\n",
        "\n",
        "def draw_dot(root):\n",
        "  dot = Digraph(format='svg', graph_attr={'rankdir': 'LR'}) # LR = left to right\n",
        "\n",
        "  nodes, edges = trace(root)\n",
        "  for n in nodes:\n",
        "    uid = str(id(n))\n",
        "    # for any value in the graph, create a rectangular ('record') node for it\n",
        "    dot.node(name = uid, label = \"{ %s | data %.4f | grad %.4f }\" % (n.label, n.data, n.grad), shape='record')\n",
        "    if n._op:\n",
        "      # if this value is a result of some operation, create an op node for it\n",
        "      dot.node(name = uid + n._op, label = n._op)\n",
        "      # and connect this node to it\n",
        "      dot.edge(uid + n._op, uid)\n",
        "\n",
        "  for n1, n2 in edges:\n",
        "    # connect n1 to the op node of n2\n",
        "    dot.edge(str(id(n1)), str(id(n2)) + n2._op)\n",
        "\n",
        "  return dot"
      ],
      "metadata": {
        "id": "oizzKSV1geJL"
      },
      "execution_count": 10,
      "outputs": []
    },
    {
      "cell_type": "code",
      "source": [
        "draw_dot(L)"
      ],
      "metadata": {
        "colab": {
          "base_uri": "https://localhost:8080/",
          "height": 212
        },
        "id": "VG7Bgi9qib8I",
        "outputId": "1fd1efef-9cec-41bc-ff67-ebfd44033720"
      },
      "execution_count": 11,
      "outputs": [
        {
          "output_type": "execute_result",
          "data": {
            "image/svg+xml": "<?xml version=\"1.0\" encoding=\"UTF-8\" standalone=\"no\"?>\n<!DOCTYPE svg PUBLIC \"-//W3C//DTD SVG 1.1//EN\"\n \"http://www.w3.org/Graphics/SVG/1.1/DTD/svg11.dtd\">\n<!-- Generated by graphviz version 2.43.0 (0)\n -->\n<!-- Title: %3 Pages: 1 -->\n<svg width=\"1148pt\" height=\"128pt\"\n viewBox=\"0.00 0.00 1148.00 128.00\" xmlns=\"http://www.w3.org/2000/svg\" xmlns:xlink=\"http://www.w3.org/1999/xlink\">\n<g id=\"graph0\" class=\"graph\" transform=\"scale(1 1) rotate(0) translate(4 124)\">\n<title>%3</title>\n<polygon fill=\"white\" stroke=\"transparent\" points=\"-4,4 -4,-124 1144,-124 1144,4 -4,4\"/>\n<!-- 133617037420064 -->\n<g id=\"node1\" class=\"node\">\n<title>133617037420064</title>\n<polygon fill=\"none\" stroke=\"black\" points=\"948,-27.5 948,-63.5 1140,-63.5 1140,-27.5 948,-27.5\"/>\n<text text-anchor=\"middle\" x=\"960.5\" y=\"-41.8\" font-family=\"Times,serif\" font-size=\"14.00\">L</text>\n<polyline fill=\"none\" stroke=\"black\" points=\"973,-27.5 973,-63.5 \"/>\n<text text-anchor=\"middle\" x=\"1015.5\" y=\"-41.8\" font-family=\"Times,serif\" font-size=\"14.00\">data &#45;8.0000</text>\n<polyline fill=\"none\" stroke=\"black\" points=\"1058,-27.5 1058,-63.5 \"/>\n<text text-anchor=\"middle\" x=\"1099\" y=\"-41.8\" font-family=\"Times,serif\" font-size=\"14.00\">grad 0.0000</text>\n</g>\n<!-- 133617037420064* -->\n<g id=\"node2\" class=\"node\">\n<title>133617037420064*</title>\n<ellipse fill=\"none\" stroke=\"black\" cx=\"885\" cy=\"-45.5\" rx=\"27\" ry=\"18\"/>\n<text text-anchor=\"middle\" x=\"885\" y=\"-41.8\" font-family=\"Times,serif\" font-size=\"14.00\">*</text>\n</g>\n<!-- 133617037420064*&#45;&gt;133617037420064 -->\n<g id=\"edge1\" class=\"edge\">\n<title>133617037420064*&#45;&gt;133617037420064</title>\n<path fill=\"none\" stroke=\"black\" d=\"M912.28,-45.5C919.78,-45.5 928.44,-45.5 937.67,-45.5\"/>\n<polygon fill=\"black\" stroke=\"black\" points=\"937.87,-49 947.87,-45.5 937.87,-42 937.87,-49\"/>\n</g>\n<!-- 133617037410368 -->\n<g id=\"node3\" class=\"node\">\n<title>133617037410368</title>\n<polygon fill=\"none\" stroke=\"black\" points=\"0,-56.5 0,-92.5 190,-92.5 190,-56.5 0,-56.5\"/>\n<text text-anchor=\"middle\" x=\"11.5\" y=\"-70.8\" font-family=\"Times,serif\" font-size=\"14.00\">b</text>\n<polyline fill=\"none\" stroke=\"black\" points=\"23,-56.5 23,-92.5 \"/>\n<text text-anchor=\"middle\" x=\"65.5\" y=\"-70.8\" font-family=\"Times,serif\" font-size=\"14.00\">data &#45;3.0000</text>\n<polyline fill=\"none\" stroke=\"black\" points=\"108,-56.5 108,-92.5 \"/>\n<text text-anchor=\"middle\" x=\"149\" y=\"-70.8\" font-family=\"Times,serif\" font-size=\"14.00\">grad 0.0000</text>\n</g>\n<!-- 133617037420784* -->\n<g id=\"node7\" class=\"node\">\n<title>133617037420784*</title>\n<ellipse fill=\"none\" stroke=\"black\" cx=\"253\" cy=\"-46.5\" rx=\"27\" ry=\"18\"/>\n<text text-anchor=\"middle\" x=\"253\" y=\"-42.8\" font-family=\"Times,serif\" font-size=\"14.00\">*</text>\n</g>\n<!-- 133617037410368&#45;&gt;133617037420784* -->\n<g id=\"edge9\" class=\"edge\">\n<title>133617037410368&#45;&gt;133617037420784*</title>\n<path fill=\"none\" stroke=\"black\" d=\"M190.34,-57.57C199.62,-55.9 208.58,-54.29 216.66,-52.84\"/>\n<polygon fill=\"black\" stroke=\"black\" points=\"217.49,-56.25 226.72,-51.04 216.26,-49.36 217.49,-56.25\"/>\n</g>\n<!-- 133617037410416 -->\n<g id=\"node4\" class=\"node\">\n<title>133617037410416</title>\n<polygon fill=\"none\" stroke=\"black\" points=\"316,-83.5 316,-119.5 508,-119.5 508,-83.5 316,-83.5\"/>\n<text text-anchor=\"middle\" x=\"327.5\" y=\"-97.8\" font-family=\"Times,serif\" font-size=\"14.00\">c</text>\n<polyline fill=\"none\" stroke=\"black\" points=\"339,-83.5 339,-119.5 \"/>\n<text text-anchor=\"middle\" x=\"382.5\" y=\"-97.8\" font-family=\"Times,serif\" font-size=\"14.00\">data 10.0000</text>\n<polyline fill=\"none\" stroke=\"black\" points=\"426,-83.5 426,-119.5 \"/>\n<text text-anchor=\"middle\" x=\"467\" y=\"-97.8\" font-family=\"Times,serif\" font-size=\"14.00\">grad 0.0000</text>\n</g>\n<!-- 133617037420448+ -->\n<g id=\"node9\" class=\"node\">\n<title>133617037420448+</title>\n<ellipse fill=\"none\" stroke=\"black\" cx=\"571\" cy=\"-73.5\" rx=\"27\" ry=\"18\"/>\n<text text-anchor=\"middle\" x=\"571\" y=\"-69.8\" font-family=\"Times,serif\" font-size=\"14.00\">+</text>\n</g>\n<!-- 133617037410416&#45;&gt;133617037420448+ -->\n<g id=\"edge4\" class=\"edge\">\n<title>133617037410416&#45;&gt;133617037420448+</title>\n<path fill=\"none\" stroke=\"black\" d=\"M508.4,-84.49C517.69,-82.83 526.64,-81.23 534.71,-79.79\"/>\n<polygon fill=\"black\" stroke=\"black\" points=\"535.53,-83.2 544.76,-78 534.31,-76.31 535.53,-83.2\"/>\n</g>\n<!-- 133617037425872 -->\n<g id=\"node5\" class=\"node\">\n<title>133617037425872</title>\n<polygon fill=\"none\" stroke=\"black\" points=\"2.5,-1.5 2.5,-37.5 187.5,-37.5 187.5,-1.5 2.5,-1.5\"/>\n<text text-anchor=\"middle\" x=\"14\" y=\"-15.8\" font-family=\"Times,serif\" font-size=\"14.00\">a</text>\n<polyline fill=\"none\" stroke=\"black\" points=\"25.5,-1.5 25.5,-37.5 \"/>\n<text text-anchor=\"middle\" x=\"65.5\" y=\"-15.8\" font-family=\"Times,serif\" font-size=\"14.00\">data 2.0000</text>\n<polyline fill=\"none\" stroke=\"black\" points=\"105.5,-1.5 105.5,-37.5 \"/>\n<text text-anchor=\"middle\" x=\"146.5\" y=\"-15.8\" font-family=\"Times,serif\" font-size=\"14.00\">grad 0.0000</text>\n</g>\n<!-- 133617037425872&#45;&gt;133617037420784* -->\n<g id=\"edge6\" class=\"edge\">\n<title>133617037425872&#45;&gt;133617037420784*</title>\n<path fill=\"none\" stroke=\"black\" d=\"M187.65,-35.36C197.94,-37.14 207.91,-38.87 216.81,-40.41\"/>\n<polygon fill=\"black\" stroke=\"black\" points=\"216.26,-43.87 226.71,-42.12 217.45,-36.97 216.26,-43.87\"/>\n</g>\n<!-- 133617037420784 -->\n<g id=\"node6\" class=\"node\">\n<title>133617037420784</title>\n<polygon fill=\"none\" stroke=\"black\" points=\"318.5,-28.5 318.5,-64.5 505.5,-64.5 505.5,-28.5 318.5,-28.5\"/>\n<text text-anchor=\"middle\" x=\"328.5\" y=\"-42.8\" font-family=\"Times,serif\" font-size=\"14.00\"> </text>\n<polyline fill=\"none\" stroke=\"black\" points=\"338.5,-28.5 338.5,-64.5 \"/>\n<text text-anchor=\"middle\" x=\"381\" y=\"-42.8\" font-family=\"Times,serif\" font-size=\"14.00\">data &#45;6.0000</text>\n<polyline fill=\"none\" stroke=\"black\" points=\"423.5,-28.5 423.5,-64.5 \"/>\n<text text-anchor=\"middle\" x=\"464.5\" y=\"-42.8\" font-family=\"Times,serif\" font-size=\"14.00\">grad 0.0000</text>\n</g>\n<!-- 133617037420784&#45;&gt;133617037420448+ -->\n<g id=\"edge7\" class=\"edge\">\n<title>133617037420784&#45;&gt;133617037420448+</title>\n<path fill=\"none\" stroke=\"black\" d=\"M505.69,-62.44C516,-64.21 525.97,-65.93 534.85,-67.46\"/>\n<polygon fill=\"black\" stroke=\"black\" points=\"534.3,-70.91 544.75,-69.16 535.49,-64.01 534.3,-70.91\"/>\n</g>\n<!-- 133617037420784*&#45;&gt;133617037420784 -->\n<g id=\"edge2\" class=\"edge\">\n<title>133617037420784*&#45;&gt;133617037420784</title>\n<path fill=\"none\" stroke=\"black\" d=\"M280.28,-46.5C288.4,-46.5 297.88,-46.5 307.96,-46.5\"/>\n<polygon fill=\"black\" stroke=\"black\" points=\"308.22,-50 318.22,-46.5 308.22,-43 308.22,-50\"/>\n</g>\n<!-- 133617037420448 -->\n<g id=\"node8\" class=\"node\">\n<title>133617037420448</title>\n<polygon fill=\"none\" stroke=\"black\" points=\"635.5,-55.5 635.5,-91.5 820.5,-91.5 820.5,-55.5 635.5,-55.5\"/>\n<text text-anchor=\"middle\" x=\"647\" y=\"-69.8\" font-family=\"Times,serif\" font-size=\"14.00\">d</text>\n<polyline fill=\"none\" stroke=\"black\" points=\"658.5,-55.5 658.5,-91.5 \"/>\n<text text-anchor=\"middle\" x=\"698.5\" y=\"-69.8\" font-family=\"Times,serif\" font-size=\"14.00\">data 4.0000</text>\n<polyline fill=\"none\" stroke=\"black\" points=\"738.5,-55.5 738.5,-91.5 \"/>\n<text text-anchor=\"middle\" x=\"779.5\" y=\"-69.8\" font-family=\"Times,serif\" font-size=\"14.00\">grad 0.0000</text>\n</g>\n<!-- 133617037420448&#45;&gt;133617037420064* -->\n<g id=\"edge8\" class=\"edge\">\n<title>133617037420448&#45;&gt;133617037420064*</title>\n<path fill=\"none\" stroke=\"black\" d=\"M820.51,-56.97C830.48,-55.17 840.13,-53.42 848.77,-51.86\"/>\n<polygon fill=\"black\" stroke=\"black\" points=\"849.55,-55.28 858.77,-50.06 848.3,-48.39 849.55,-55.28\"/>\n</g>\n<!-- 133617037420448+&#45;&gt;133617037420448 -->\n<g id=\"edge3\" class=\"edge\">\n<title>133617037420448+&#45;&gt;133617037420448</title>\n<path fill=\"none\" stroke=\"black\" d=\"M598.29,-73.5C606.26,-73.5 615.54,-73.5 625.39,-73.5\"/>\n<polygon fill=\"black\" stroke=\"black\" points=\"625.41,-77 635.41,-73.5 625.41,-70 625.41,-77\"/>\n</g>\n<!-- 133617037420496 -->\n<g id=\"node10\" class=\"node\">\n<title>133617037420496</title>\n<polygon fill=\"none\" stroke=\"black\" points=\"634,-0.5 634,-36.5 822,-36.5 822,-0.5 634,-0.5\"/>\n<text text-anchor=\"middle\" x=\"644.5\" y=\"-14.8\" font-family=\"Times,serif\" font-size=\"14.00\">f</text>\n<polyline fill=\"none\" stroke=\"black\" points=\"655,-0.5 655,-36.5 \"/>\n<text text-anchor=\"middle\" x=\"697.5\" y=\"-14.8\" font-family=\"Times,serif\" font-size=\"14.00\">data &#45;2.0000</text>\n<polyline fill=\"none\" stroke=\"black\" points=\"740,-0.5 740,-36.5 \"/>\n<text text-anchor=\"middle\" x=\"781\" y=\"-14.8\" font-family=\"Times,serif\" font-size=\"14.00\">grad 0.0000</text>\n</g>\n<!-- 133617037420496&#45;&gt;133617037420064* -->\n<g id=\"edge5\" class=\"edge\">\n<title>133617037420496&#45;&gt;133617037420064*</title>\n<path fill=\"none\" stroke=\"black\" d=\"M822.29,-34.75C831.57,-36.37 840.52,-37.93 848.61,-39.33\"/>\n<polygon fill=\"black\" stroke=\"black\" points=\"848.22,-42.82 858.68,-41.09 849.42,-35.92 848.22,-42.82\"/>\n</g>\n</g>\n</svg>\n",
            "text/plain": [
              "<graphviz.graphs.Digraph at 0x7986240d1390>"
            ]
          },
          "metadata": {},
          "execution_count": 11
        }
      ]
    },
    {
      "cell_type": "code",
      "source": [
        "L.grad = 1.0\n",
        "\n",
        "#dl/dd\n",
        "#(f(x+h)-f(x))/h\n",
        "#((d+h)*f - d*f) /h\n",
        "#(h*f)/h\n",
        "#f\n",
        "\n",
        "f.grad = 4.0\n",
        "d.grad = -2"
      ],
      "metadata": {
        "id": "ktnaOoeQWu4I"
      },
      "execution_count": 12,
      "outputs": []
    },
    {
      "cell_type": "code",
      "source": [
        "#dd/dc\n",
        "#d = c + e\n",
        "#(f(x+h) - f(x)) /h\n",
        "#((c+h+e) - (c+e)) /h\n",
        "#c+h+e-c-e\n",
        "#h/h = 1.0\n",
        "\n",
        "#Chain Rule\n",
        "#dl / dc = (dl / dd) * (dd / dc)\n",
        "\n",
        "\n",
        "#WANT dl/dc\n",
        "#KNOW dd/dc\n",
        "#dl/dc = (dl/dd) * (dd/dc)\n",
        "c.grad = -2.0\n",
        "e.grad = -2.0"
      ],
      "metadata": {
        "id": "RYxTo9RldCvm"
      },
      "execution_count": 13,
      "outputs": []
    },
    {
      "cell_type": "code",
      "source": [
        "#dl/de\n",
        "#dl/da = (dl/de) * (de/da)\n",
        "a.grad = -2.0 * -3.0\n",
        "b.grad = -2.0 * 2.0"
      ],
      "metadata": {
        "id": "QFSgedIdnYXX"
      },
      "execution_count": 14,
      "outputs": []
    },
    {
      "cell_type": "code",
      "source": [
        "a.data += 0.01 * a .grad\n",
        "b.data += 0.01 * b .grad\n",
        "c.data += 0.01 * c .grad\n",
        "f.data += 0.01 * f .grad\n",
        "\n",
        "e = a*b\n",
        "d=e+c\n",
        "L=d*f\n",
        "print(L.data)"
      ],
      "metadata": {
        "colab": {
          "base_uri": "https://localhost:8080/"
        },
        "id": "FhJmUhrpz0kx",
        "outputId": "d3a741a6-0e44-470d-f4d6-7ee04bd292ec"
      },
      "execution_count": 15,
      "outputs": [
        {
          "output_type": "stream",
          "name": "stdout",
          "text": [
            "-35.549696\n"
          ]
        }
      ]
    },
    {
      "cell_type": "code",
      "source": [
        "def lol():\n",
        "  h = 0.001\n",
        "\n",
        "  a = Value(2.0, label='a')\n",
        "  b = Value(-3.0, label='b')\n",
        "  c = Value(10.0,label='c')\n",
        "  e = a * b; e.label = 'e'\n",
        "  d = e + c; d.label='d'\n",
        "  f = Value(-2.0, label='f')\n",
        "  L = d *f; L.label='L'\n",
        "  L1 = L.data\n",
        "\n",
        "\n",
        "  a = Value(2.0+h, label='a')\n",
        "  b = Value(-3.0, label='b')\n",
        "  c = Value(10.0,label='c')\n",
        "  e = a*b; e.label= 'e'\n",
        "  d = e + c; d.label='d'\n",
        "  d.data += h\n",
        "  f = Value(-2.0, label='f')\n",
        "  L = d *f; L.label='L'\n",
        "  L2 = L.data\n",
        "\n",
        "\n",
        "  print((L2-L1)/h)\n",
        "\n",
        "lol()\n",
        "\n",
        "#Backpropagation => recursive application of chain rule backwards through the computation graph\n"
      ],
      "metadata": {
        "colab": {
          "base_uri": "https://localhost:8080/"
        },
        "id": "S-1dsVeRV7vM",
        "outputId": "3f205666-f058-4b29-903f-6a220550695a"
      },
      "execution_count": 16,
      "outputs": [
        {
          "output_type": "stream",
          "name": "stdout",
          "text": [
            "4.000000000000448\n"
          ]
        }
      ]
    },
    {
      "cell_type": "code",
      "source": [
        "# inputs x1,x2\n",
        "x1 = Value(2.0, label='x1')\n",
        "x2 = Value(0.0, label='x2')\n",
        "\n",
        "# weights w1,w2\n",
        "w1 = Value(-3.0, label='w1')\n",
        "w2 = Value(1.0, label='w2')\n",
        "\n",
        "# bias of the neuron\n",
        "b = Value(6.8813735870195432, label='b')\n",
        "\n",
        "# x1*w1 + x2*w2 + b\n",
        "x1w1 = x1*w1; x1w1.label = 'x1*w1'\n",
        "x2w2 = x2*w2; x2w2.label = 'x2*w2'\n",
        "x1w1x2w2 = x1w1 + x2w2; x1w1x2w2.label = 'x1*w1 + x2*w2'\n",
        "n = x1w1x2w2 + b; n.label = 'n'\n",
        "#---\n",
        "e = (2*n).exp()\n",
        "o = (e-1) / (e+1)\n",
        "#--\n",
        "o.label = 'o'\n",
        "o.backward()"
      ],
      "metadata": {
        "id": "NUZ720VX2VOv"
      },
      "execution_count": 17,
      "outputs": []
    },
    {
      "cell_type": "code",
      "source": [
        "draw_dot(o)"
      ],
      "metadata": {
        "colab": {
          "base_uri": "https://localhost:8080/",
          "height": 360
        },
        "id": "LP1xMF55429T",
        "outputId": "2d3cc4b7-7cb2-422f-d66b-2455933aada7"
      },
      "execution_count": 33,
      "outputs": [
        {
          "output_type": "execute_result",
          "data": {
            "image/svg+xml": "<?xml version=\"1.0\" encoding=\"UTF-8\" standalone=\"no\"?>\n<!DOCTYPE svg PUBLIC \"-//W3C//DTD SVG 1.1//EN\"\n \"http://www.w3.org/Graphics/SVG/1.1/DTD/svg11.dtd\">\n<!-- Generated by graphviz version 2.43.0 (0)\n -->\n<!-- Title: %3 Pages: 1 -->\n<svg width=\"2991pt\" height=\"239pt\"\n viewBox=\"0.00 0.00 2991.00 239.00\" xmlns=\"http://www.w3.org/2000/svg\" xmlns:xlink=\"http://www.w3.org/1999/xlink\">\n<g id=\"graph0\" class=\"graph\" transform=\"scale(1 1) rotate(0) translate(4 235)\">\n<title>%3</title>\n<polygon fill=\"white\" stroke=\"transparent\" points=\"-4,4 -4,-235 2987,-235 2987,4 -4,4\"/>\n<!-- 133617037422608 -->\n<g id=\"node1\" class=\"node\">\n<title>133617037422608</title>\n<polygon fill=\"none\" stroke=\"black\" points=\"0,-194.5 0,-230.5 200,-230.5 200,-194.5 0,-194.5\"/>\n<text text-anchor=\"middle\" x=\"16.5\" y=\"-208.8\" font-family=\"Times,serif\" font-size=\"14.00\">w1</text>\n<polyline fill=\"none\" stroke=\"black\" points=\"33,-194.5 33,-230.5 \"/>\n<text text-anchor=\"middle\" x=\"75.5\" y=\"-208.8\" font-family=\"Times,serif\" font-size=\"14.00\">data &#45;3.0000</text>\n<polyline fill=\"none\" stroke=\"black\" points=\"118,-194.5 118,-230.5 \"/>\n<text text-anchor=\"middle\" x=\"159\" y=\"-208.8\" font-family=\"Times,serif\" font-size=\"14.00\">grad 4.0000</text>\n</g>\n<!-- 133617037461296* -->\n<g id=\"node20\" class=\"node\">\n<title>133617037461296*</title>\n<ellipse fill=\"none\" stroke=\"black\" cx=\"263\" cy=\"-157.5\" rx=\"27\" ry=\"18\"/>\n<text text-anchor=\"middle\" x=\"263\" y=\"-153.8\" font-family=\"Times,serif\" font-size=\"14.00\">*</text>\n</g>\n<!-- 133617037422608&#45;&gt;133617037461296* -->\n<g id=\"edge26\" class=\"edge\">\n<title>133617037422608&#45;&gt;133617037461296*</title>\n<path fill=\"none\" stroke=\"black\" d=\"M172.53,-194.44C181.84,-191.67 191.2,-188.67 200,-185.5 210.53,-181.71 221.75,-176.9 231.72,-172.33\"/>\n<polygon fill=\"black\" stroke=\"black\" points=\"233.25,-175.48 240.82,-168.07 230.28,-169.14 233.25,-175.48\"/>\n</g>\n<!-- 133617037473872 -->\n<g id=\"node2\" class=\"node\">\n<title>133617037473872</title>\n<polygon fill=\"none\" stroke=\"black\" points=\"2033,-82.5 2033,-118.5 2215,-118.5 2215,-82.5 2033,-82.5\"/>\n<text text-anchor=\"middle\" x=\"2043\" y=\"-96.8\" font-family=\"Times,serif\" font-size=\"14.00\"> </text>\n<polyline fill=\"none\" stroke=\"black\" points=\"2053,-82.5 2053,-118.5 \"/>\n<text text-anchor=\"middle\" x=\"2093\" y=\"-96.8\" font-family=\"Times,serif\" font-size=\"14.00\">data 6.8284</text>\n<polyline fill=\"none\" stroke=\"black\" points=\"2133,-82.5 2133,-118.5 \"/>\n<text text-anchor=\"middle\" x=\"2174\" y=\"-96.8\" font-family=\"Times,serif\" font-size=\"14.00\">grad 0.0000</text>\n</g>\n<!-- 133617037413584**1 -->\n<g id=\"node9\" class=\"node\">\n<title>133617037413584**1</title>\n<ellipse fill=\"none\" stroke=\"black\" cx=\"2345.5\" cy=\"-100.5\" rx=\"27\" ry=\"18\"/>\n<text text-anchor=\"middle\" x=\"2345.5\" y=\"-96.8\" font-family=\"Times,serif\" font-size=\"14.00\">**1</text>\n</g>\n<!-- 133617037473872&#45;&gt;133617037413584**1 -->\n<g id=\"edge13\" class=\"edge\">\n<title>133617037473872&#45;&gt;133617037413584**1</title>\n<path fill=\"none\" stroke=\"black\" d=\"M2215.23,-100.5C2247.72,-100.5 2282.56,-100.5 2307.88,-100.5\"/>\n<polygon fill=\"black\" stroke=\"black\" points=\"2308.11,-104 2318.11,-100.5 2308.11,-97 2308.11,-104\"/>\n</g>\n<!-- 133617037473872+ -->\n<g id=\"node3\" class=\"node\">\n<title>133617037473872+</title>\n<ellipse fill=\"none\" stroke=\"black\" cx=\"1970\" cy=\"-100.5\" rx=\"27\" ry=\"18\"/>\n<text text-anchor=\"middle\" x=\"1970\" y=\"-96.8\" font-family=\"Times,serif\" font-size=\"14.00\">+</text>\n</g>\n<!-- 133617037473872+&#45;&gt;133617037473872 -->\n<g id=\"edge1\" class=\"edge\">\n<title>133617037473872+&#45;&gt;133617037473872</title>\n<path fill=\"none\" stroke=\"black\" d=\"M1997.13,-100.5C2004.67,-100.5 2013.39,-100.5 2022.64,-100.5\"/>\n<polygon fill=\"black\" stroke=\"black\" points=\"2022.87,-104 2032.87,-100.5 2022.87,-97 2022.87,-104\"/>\n</g>\n<!-- 133617037474928 -->\n<g id=\"node4\" class=\"node\">\n<title>133617037474928</title>\n<polygon fill=\"none\" stroke=\"black\" points=\"1713,-0.5 1713,-36.5 1907,-36.5 1907,-0.5 1713,-0.5\"/>\n<text text-anchor=\"middle\" x=\"1723\" y=\"-14.8\" font-family=\"Times,serif\" font-size=\"14.00\"> </text>\n<polyline fill=\"none\" stroke=\"black\" points=\"1733,-0.5 1733,-36.5 \"/>\n<text text-anchor=\"middle\" x=\"1775.5\" y=\"-14.8\" font-family=\"Times,serif\" font-size=\"14.00\">data &#45;1.0000</text>\n<polyline fill=\"none\" stroke=\"black\" points=\"1818,-0.5 1818,-36.5 \"/>\n<text text-anchor=\"middle\" x=\"1862.5\" y=\"-14.8\" font-family=\"Times,serif\" font-size=\"14.00\">grad 20.4853</text>\n</g>\n<!-- 133617037474736+ -->\n<g id=\"node26\" class=\"node\">\n<title>133617037474736+</title>\n<ellipse fill=\"none\" stroke=\"black\" cx=\"1970\" cy=\"-45.5\" rx=\"27\" ry=\"18\"/>\n<text text-anchor=\"middle\" x=\"1970\" y=\"-41.8\" font-family=\"Times,serif\" font-size=\"14.00\">+</text>\n</g>\n<!-- 133617037474928&#45;&gt;133617037474736+ -->\n<g id=\"edge15\" class=\"edge\">\n<title>133617037474928&#45;&gt;133617037474736+</title>\n<path fill=\"none\" stroke=\"black\" d=\"M1907.01,-34.91C1916.35,-36.5 1925.37,-38.04 1933.49,-39.43\"/>\n<polygon fill=\"black\" stroke=\"black\" points=\"1933.16,-42.93 1943.6,-41.16 1934.34,-36.03 1933.16,-42.93\"/>\n</g>\n<!-- 133617037423232 -->\n<g id=\"node5\" class=\"node\">\n<title>133617037423232</title>\n<polygon fill=\"none\" stroke=\"black\" points=\"2,-139.5 2,-175.5 198,-175.5 198,-139.5 2,-139.5\"/>\n<text text-anchor=\"middle\" x=\"17\" y=\"-153.8\" font-family=\"Times,serif\" font-size=\"14.00\">x1</text>\n<polyline fill=\"none\" stroke=\"black\" points=\"32,-139.5 32,-175.5 \"/>\n<text text-anchor=\"middle\" x=\"72\" y=\"-153.8\" font-family=\"Times,serif\" font-size=\"14.00\">data 2.0000</text>\n<polyline fill=\"none\" stroke=\"black\" points=\"112,-139.5 112,-175.5 \"/>\n<text text-anchor=\"middle\" x=\"155\" y=\"-153.8\" font-family=\"Times,serif\" font-size=\"14.00\">grad &#45;6.0000</text>\n</g>\n<!-- 133617037423232&#45;&gt;133617037461296* -->\n<g id=\"edge17\" class=\"edge\">\n<title>133617037423232&#45;&gt;133617037461296*</title>\n<path fill=\"none\" stroke=\"black\" d=\"M198.37,-157.5C208.05,-157.5 217.4,-157.5 225.8,-157.5\"/>\n<polygon fill=\"black\" stroke=\"black\" points=\"225.91,-161 235.91,-157.5 225.91,-154 225.91,-161\"/>\n</g>\n<!-- 133617037474976 -->\n<g id=\"node6\" class=\"node\">\n<title>133617037474976</title>\n<polygon fill=\"none\" stroke=\"black\" points=\"1715.5,-55.5 1715.5,-91.5 1904.5,-91.5 1904.5,-55.5 1715.5,-55.5\"/>\n<text text-anchor=\"middle\" x=\"1725.5\" y=\"-69.8\" font-family=\"Times,serif\" font-size=\"14.00\"> </text>\n<polyline fill=\"none\" stroke=\"black\" points=\"1735.5,-55.5 1735.5,-91.5 \"/>\n<text text-anchor=\"middle\" x=\"1775.5\" y=\"-69.8\" font-family=\"Times,serif\" font-size=\"14.00\">data 5.8284</text>\n<polyline fill=\"none\" stroke=\"black\" points=\"1815.5,-55.5 1815.5,-91.5 \"/>\n<text text-anchor=\"middle\" x=\"1860\" y=\"-69.8\" font-family=\"Times,serif\" font-size=\"14.00\">grad 20.4853</text>\n</g>\n<!-- 133617037474976&#45;&gt;133617037473872+ -->\n<g id=\"edge14\" class=\"edge\">\n<title>133617037474976&#45;&gt;133617037473872+</title>\n<path fill=\"none\" stroke=\"black\" d=\"M1904.74,-89.52C1914.85,-91.25 1924.62,-92.92 1933.37,-94.41\"/>\n<polygon fill=\"black\" stroke=\"black\" points=\"1933.04,-97.9 1943.48,-96.14 1934.22,-91 1933.04,-97.9\"/>\n</g>\n<!-- 133617037474976&#45;&gt;133617037474736+ -->\n<g id=\"edge16\" class=\"edge\">\n<title>133617037474976&#45;&gt;133617037474736+</title>\n<path fill=\"none\" stroke=\"black\" d=\"M1904.74,-56.89C1915.05,-55.06 1925.02,-53.29 1933.9,-51.72\"/>\n<polygon fill=\"black\" stroke=\"black\" points=\"1934.55,-55.16 1943.79,-49.97 1933.33,-48.27 1934.55,-55.16\"/>\n</g>\n<!-- 133617037474976exp -->\n<g id=\"node7\" class=\"node\">\n<title>133617037474976exp</title>\n<ellipse fill=\"none\" stroke=\"black\" cx=\"1650\" cy=\"-73.5\" rx=\"27\" ry=\"18\"/>\n<text text-anchor=\"middle\" x=\"1650\" y=\"-69.8\" font-family=\"Times,serif\" font-size=\"14.00\">exp</text>\n</g>\n<!-- 133617037474976exp&#45;&gt;133617037474976 -->\n<g id=\"edge2\" class=\"edge\">\n<title>133617037474976exp&#45;&gt;133617037474976</title>\n<path fill=\"none\" stroke=\"black\" d=\"M1677.09,-73.5C1685.33,-73.5 1694.98,-73.5 1705.26,-73.5\"/>\n<polygon fill=\"black\" stroke=\"black\" points=\"1705.28,-77 1715.28,-73.5 1705.28,-70 1705.28,-77\"/>\n</g>\n<!-- 133617037413584 -->\n<g id=\"node8\" class=\"node\">\n<title>133617037413584</title>\n<polygon fill=\"none\" stroke=\"black\" points=\"2476,-80.5 2476,-116.5 2665,-116.5 2665,-80.5 2476,-80.5\"/>\n<text text-anchor=\"middle\" x=\"2486\" y=\"-94.8\" font-family=\"Times,serif\" font-size=\"14.00\"> </text>\n<polyline fill=\"none\" stroke=\"black\" points=\"2496,-80.5 2496,-116.5 \"/>\n<text text-anchor=\"middle\" x=\"2536\" y=\"-94.8\" font-family=\"Times,serif\" font-size=\"14.00\">data 6.8284</text>\n<polyline fill=\"none\" stroke=\"black\" points=\"2576,-80.5 2576,-116.5 \"/>\n<text text-anchor=\"middle\" x=\"2620.5\" y=\"-94.8\" font-family=\"Times,serif\" font-size=\"14.00\">grad 14.4853</text>\n</g>\n<!-- 133617037464560* -->\n<g id=\"node28\" class=\"node\">\n<title>133617037464560*</title>\n<ellipse fill=\"none\" stroke=\"black\" cx=\"2728\" cy=\"-72.5\" rx=\"27\" ry=\"18\"/>\n<text text-anchor=\"middle\" x=\"2728\" y=\"-68.8\" font-family=\"Times,serif\" font-size=\"14.00\">*</text>\n</g>\n<!-- 133617037413584&#45;&gt;133617037464560* -->\n<g id=\"edge24\" class=\"edge\">\n<title>133617037413584&#45;&gt;133617037464560*</title>\n<path fill=\"none\" stroke=\"black\" d=\"M2665.1,-82.85C2674.4,-81.3 2683.38,-79.79 2691.49,-78.44\"/>\n<polygon fill=\"black\" stroke=\"black\" points=\"2692.31,-81.85 2701.59,-76.75 2691.15,-74.95 2692.31,-81.85\"/>\n</g>\n<!-- 133617037413584**1&#45;&gt;133617037413584 -->\n<g id=\"edge3\" class=\"edge\">\n<title>133617037413584**1&#45;&gt;133617037413584</title>\n<path fill=\"none\" stroke=\"black\" d=\"M2372.52,-100.27C2395.68,-100.06 2431.14,-99.74 2465.63,-99.43\"/>\n<polygon fill=\"black\" stroke=\"black\" points=\"2465.83,-102.93 2475.8,-99.34 2465.77,-95.93 2465.83,-102.93\"/>\n</g>\n<!-- 133617037422320 -->\n<g id=\"node10\" class=\"node\">\n<title>133617037422320</title>\n<polygon fill=\"none\" stroke=\"black\" points=\"2.5,-84.5 2.5,-120.5 197.5,-120.5 197.5,-84.5 2.5,-84.5\"/>\n<text text-anchor=\"middle\" x=\"19\" y=\"-98.8\" font-family=\"Times,serif\" font-size=\"14.00\">w2</text>\n<polyline fill=\"none\" stroke=\"black\" points=\"35.5,-84.5 35.5,-120.5 \"/>\n<text text-anchor=\"middle\" x=\"75.5\" y=\"-98.8\" font-family=\"Times,serif\" font-size=\"14.00\">data 1.0000</text>\n<polyline fill=\"none\" stroke=\"black\" points=\"115.5,-84.5 115.5,-120.5 \"/>\n<text text-anchor=\"middle\" x=\"156.5\" y=\"-98.8\" font-family=\"Times,serif\" font-size=\"14.00\">grad 0.0000</text>\n</g>\n<!-- 133617037461248* -->\n<g id=\"node16\" class=\"node\">\n<title>133617037461248*</title>\n<ellipse fill=\"none\" stroke=\"black\" cx=\"263\" cy=\"-102.5\" rx=\"27\" ry=\"18\"/>\n<text text-anchor=\"middle\" x=\"263\" y=\"-98.8\" font-family=\"Times,serif\" font-size=\"14.00\">*</text>\n</g>\n<!-- 133617037422320&#45;&gt;133617037461248* -->\n<g id=\"edge11\" class=\"edge\">\n<title>133617037422320&#45;&gt;133617037461248*</title>\n<path fill=\"none\" stroke=\"black\" d=\"M197.91,-102.5C207.65,-102.5 217.05,-102.5 225.52,-102.5\"/>\n<polygon fill=\"black\" stroke=\"black\" points=\"225.7,-106 235.7,-102.5 225.7,-99 225.7,-106\"/>\n</g>\n<!-- 133617037473536 -->\n<g id=\"node11\" class=\"node\">\n<title>133617037473536</title>\n<polygon fill=\"none\" stroke=\"black\" points=\"1392,-55.5 1392,-91.5 1587,-91.5 1587,-55.5 1392,-55.5\"/>\n<text text-anchor=\"middle\" x=\"1402\" y=\"-69.8\" font-family=\"Times,serif\" font-size=\"14.00\"> </text>\n<polyline fill=\"none\" stroke=\"black\" points=\"1412,-55.5 1412,-91.5 \"/>\n<text text-anchor=\"middle\" x=\"1452\" y=\"-69.8\" font-family=\"Times,serif\" font-size=\"14.00\">data 1.7627</text>\n<polyline fill=\"none\" stroke=\"black\" points=\"1492,-55.5 1492,-91.5 \"/>\n<text text-anchor=\"middle\" x=\"1539.5\" y=\"-69.8\" font-family=\"Times,serif\" font-size=\"14.00\">grad 159.1960</text>\n</g>\n<!-- 133617037473536&#45;&gt;133617037474976exp -->\n<g id=\"edge18\" class=\"edge\">\n<title>133617037473536&#45;&gt;133617037474976exp</title>\n<path fill=\"none\" stroke=\"black\" d=\"M1587.27,-73.5C1596.22,-73.5 1604.85,-73.5 1612.69,-73.5\"/>\n<polygon fill=\"black\" stroke=\"black\" points=\"1612.83,-77 1622.83,-73.5 1612.83,-70 1612.83,-77\"/>\n</g>\n<!-- 133617037473536* -->\n<g id=\"node12\" class=\"node\">\n<title>133617037473536*</title>\n<ellipse fill=\"none\" stroke=\"black\" cx=\"1329\" cy=\"-73.5\" rx=\"27\" ry=\"18\"/>\n<text text-anchor=\"middle\" x=\"1329\" y=\"-69.8\" font-family=\"Times,serif\" font-size=\"14.00\">*</text>\n</g>\n<!-- 133617037473536*&#45;&gt;133617037473536 -->\n<g id=\"edge4\" class=\"edge\">\n<title>133617037473536*&#45;&gt;133617037473536</title>\n<path fill=\"none\" stroke=\"black\" d=\"M1356.17,-73.5C1363.66,-73.5 1372.32,-73.5 1381.56,-73.5\"/>\n<polygon fill=\"black\" stroke=\"black\" points=\"1381.78,-77 1391.78,-73.5 1381.78,-70 1381.78,-77\"/>\n</g>\n<!-- 133617037472000 -->\n<g id=\"node13\" class=\"node\">\n<title>133617037472000</title>\n<polygon fill=\"none\" stroke=\"black\" points=\"672,-111.5 672,-147.5 945,-147.5 945,-111.5 672,-111.5\"/>\n<text text-anchor=\"middle\" x=\"725\" y=\"-125.8\" font-family=\"Times,serif\" font-size=\"14.00\">x1*w1 + x2*w2</text>\n<polyline fill=\"none\" stroke=\"black\" points=\"778,-111.5 778,-147.5 \"/>\n<text text-anchor=\"middle\" x=\"820.5\" y=\"-125.8\" font-family=\"Times,serif\" font-size=\"14.00\">data &#45;6.0000</text>\n<polyline fill=\"none\" stroke=\"black\" points=\"863,-111.5 863,-147.5 \"/>\n<text text-anchor=\"middle\" x=\"904\" y=\"-125.8\" font-family=\"Times,serif\" font-size=\"14.00\">grad 1.0000</text>\n</g>\n<!-- 133617037473584+ -->\n<g id=\"node18\" class=\"node\">\n<title>133617037473584+</title>\n<ellipse fill=\"none\" stroke=\"black\" cx=\"1008\" cy=\"-101.5\" rx=\"27\" ry=\"18\"/>\n<text text-anchor=\"middle\" x=\"1008\" y=\"-97.8\" font-family=\"Times,serif\" font-size=\"14.00\">+</text>\n</g>\n<!-- 133617037472000&#45;&gt;133617037473584+ -->\n<g id=\"edge19\" class=\"edge\">\n<title>133617037472000&#45;&gt;133617037473584+</title>\n<path fill=\"none\" stroke=\"black\" d=\"M936.53,-111.49C949.09,-109.71 960.99,-108.02 971.3,-106.56\"/>\n<polygon fill=\"black\" stroke=\"black\" points=\"972.03,-109.99 981.44,-105.12 971.05,-103.06 972.03,-109.99\"/>\n</g>\n<!-- 133617037472000+ -->\n<g id=\"node14\" class=\"node\">\n<title>133617037472000+</title>\n<ellipse fill=\"none\" stroke=\"black\" cx=\"609\" cy=\"-129.5\" rx=\"27\" ry=\"18\"/>\n<text text-anchor=\"middle\" x=\"609\" y=\"-125.8\" font-family=\"Times,serif\" font-size=\"14.00\">+</text>\n</g>\n<!-- 133617037472000+&#45;&gt;133617037472000 -->\n<g id=\"edge5\" class=\"edge\">\n<title>133617037472000+&#45;&gt;133617037472000</title>\n<path fill=\"none\" stroke=\"black\" d=\"M636.23,-129.5C643.7,-129.5 652.41,-129.5 661.87,-129.5\"/>\n<polygon fill=\"black\" stroke=\"black\" points=\"661.98,-133 671.98,-129.5 661.98,-126 661.98,-133\"/>\n</g>\n<!-- 133617037461248 -->\n<g id=\"node15\" class=\"node\">\n<title>133617037461248</title>\n<polygon fill=\"none\" stroke=\"black\" points=\"328.5,-84.5 328.5,-120.5 543.5,-120.5 543.5,-84.5 328.5,-84.5\"/>\n<text text-anchor=\"middle\" x=\"355\" y=\"-98.8\" font-family=\"Times,serif\" font-size=\"14.00\">x2*w2</text>\n<polyline fill=\"none\" stroke=\"black\" points=\"381.5,-84.5 381.5,-120.5 \"/>\n<text text-anchor=\"middle\" x=\"421.5\" y=\"-98.8\" font-family=\"Times,serif\" font-size=\"14.00\">data 0.0000</text>\n<polyline fill=\"none\" stroke=\"black\" points=\"461.5,-84.5 461.5,-120.5 \"/>\n<text text-anchor=\"middle\" x=\"502.5\" y=\"-98.8\" font-family=\"Times,serif\" font-size=\"14.00\">grad 1.5000</text>\n</g>\n<!-- 133617037461248&#45;&gt;133617037472000+ -->\n<g id=\"edge21\" class=\"edge\">\n<title>133617037461248&#45;&gt;133617037472000+</title>\n<path fill=\"none\" stroke=\"black\" d=\"M543.84,-119.37C554.01,-120.98 563.76,-122.51 572.44,-123.89\"/>\n<polygon fill=\"black\" stroke=\"black\" points=\"572.05,-127.37 582.47,-125.47 573.14,-120.45 572.05,-127.37\"/>\n</g>\n<!-- 133617037461248*&#45;&gt;133617037461248 -->\n<g id=\"edge6\" class=\"edge\">\n<title>133617037461248*&#45;&gt;133617037461248</title>\n<path fill=\"none\" stroke=\"black\" d=\"M290.34,-102.5C298.51,-102.5 308.08,-102.5 318.36,-102.5\"/>\n<polygon fill=\"black\" stroke=\"black\" points=\"318.39,-106 328.39,-102.5 318.39,-99 318.39,-106\"/>\n</g>\n<!-- 133617037473584 -->\n<g id=\"node17\" class=\"node\">\n<title>133617037473584</title>\n<polygon fill=\"none\" stroke=\"black\" points=\"1076,-83.5 1076,-119.5 1261,-119.5 1261,-83.5 1076,-83.5\"/>\n<text text-anchor=\"middle\" x=\"1087.5\" y=\"-97.8\" font-family=\"Times,serif\" font-size=\"14.00\">n</text>\n<polyline fill=\"none\" stroke=\"black\" points=\"1099,-83.5 1099,-119.5 \"/>\n<text text-anchor=\"middle\" x=\"1139\" y=\"-97.8\" font-family=\"Times,serif\" font-size=\"14.00\">data 0.8814</text>\n<polyline fill=\"none\" stroke=\"black\" points=\"1179,-83.5 1179,-119.5 \"/>\n<text text-anchor=\"middle\" x=\"1220\" y=\"-97.8\" font-family=\"Times,serif\" font-size=\"14.00\">grad 0.5000</text>\n</g>\n<!-- 133617037473584&#45;&gt;133617037473536* -->\n<g id=\"edge20\" class=\"edge\">\n<title>133617037473584&#45;&gt;133617037473536*</title>\n<path fill=\"none\" stroke=\"black\" d=\"M1261.24,-85.29C1272.28,-83.34 1282.99,-81.45 1292.49,-79.77\"/>\n<polygon fill=\"black\" stroke=\"black\" points=\"1293.4,-83.17 1302.64,-77.98 1292.18,-76.27 1293.4,-83.17\"/>\n</g>\n<!-- 133617037473584+&#45;&gt;133617037473584 -->\n<g id=\"edge7\" class=\"edge\">\n<title>133617037473584+&#45;&gt;133617037473584</title>\n<path fill=\"none\" stroke=\"black\" d=\"M1035.17,-101.5C1043.99,-101.5 1054.43,-101.5 1065.52,-101.5\"/>\n<polygon fill=\"black\" stroke=\"black\" points=\"1065.86,-105 1075.86,-101.5 1065.86,-98 1065.86,-105\"/>\n</g>\n<!-- 133617037461296 -->\n<g id=\"node19\" class=\"node\">\n<title>133617037461296</title>\n<polygon fill=\"none\" stroke=\"black\" points=\"326,-139.5 326,-175.5 546,-175.5 546,-139.5 326,-139.5\"/>\n<text text-anchor=\"middle\" x=\"352.5\" y=\"-153.8\" font-family=\"Times,serif\" font-size=\"14.00\">x1*w1</text>\n<polyline fill=\"none\" stroke=\"black\" points=\"379,-139.5 379,-175.5 \"/>\n<text text-anchor=\"middle\" x=\"421.5\" y=\"-153.8\" font-family=\"Times,serif\" font-size=\"14.00\">data &#45;6.0000</text>\n<polyline fill=\"none\" stroke=\"black\" points=\"464,-139.5 464,-175.5 \"/>\n<text text-anchor=\"middle\" x=\"505\" y=\"-153.8\" font-family=\"Times,serif\" font-size=\"14.00\">grad 1.5000</text>\n</g>\n<!-- 133617037461296&#45;&gt;133617037472000+ -->\n<g id=\"edge23\" class=\"edge\">\n<title>133617037461296&#45;&gt;133617037472000+</title>\n<path fill=\"none\" stroke=\"black\" d=\"M546.27,-139.61C555.64,-138.07 564.6,-136.61 572.65,-135.29\"/>\n<polygon fill=\"black\" stroke=\"black\" points=\"573.35,-138.72 582.65,-133.65 572.22,-131.81 573.35,-138.72\"/>\n</g>\n<!-- 133617037461296*&#45;&gt;133617037461296 -->\n<g id=\"edge8\" class=\"edge\">\n<title>133617037461296*&#45;&gt;133617037461296</title>\n<path fill=\"none\" stroke=\"black\" d=\"M290.34,-157.5C297.77,-157.5 306.37,-157.5 315.6,-157.5\"/>\n<polygon fill=\"black\" stroke=\"black\" points=\"315.84,-161 325.84,-157.5 315.84,-154 315.84,-161\"/>\n</g>\n<!-- 133617037418240 -->\n<g id=\"node21\" class=\"node\">\n<title>133617037418240</title>\n<polygon fill=\"none\" stroke=\"black\" points=\"716,-56.5 716,-92.5 901,-92.5 901,-56.5 716,-56.5\"/>\n<text text-anchor=\"middle\" x=\"727.5\" y=\"-70.8\" font-family=\"Times,serif\" font-size=\"14.00\">b</text>\n<polyline fill=\"none\" stroke=\"black\" points=\"739,-56.5 739,-92.5 \"/>\n<text text-anchor=\"middle\" x=\"779\" y=\"-70.8\" font-family=\"Times,serif\" font-size=\"14.00\">data 6.8814</text>\n<polyline fill=\"none\" stroke=\"black\" points=\"819,-56.5 819,-92.5 \"/>\n<text text-anchor=\"middle\" x=\"860\" y=\"-70.8\" font-family=\"Times,serif\" font-size=\"14.00\">grad 1.0000</text>\n</g>\n<!-- 133617037418240&#45;&gt;133617037473584+ -->\n<g id=\"edge27\" class=\"edge\">\n<title>133617037418240&#45;&gt;133617037473584+</title>\n<path fill=\"none\" stroke=\"black\" d=\"M901.02,-87.01C926,-90.43 951.59,-93.93 971.37,-96.63\"/>\n<polygon fill=\"black\" stroke=\"black\" points=\"971.05,-100.12 981.43,-98.01 972,-93.18 971.05,-100.12\"/>\n</g>\n<!-- 133617037465904 -->\n<g id=\"node22\" class=\"node\">\n<title>133617037465904</title>\n<polygon fill=\"none\" stroke=\"black\" points=\"1071,-28.5 1071,-64.5 1266,-64.5 1266,-28.5 1071,-28.5\"/>\n<text text-anchor=\"middle\" x=\"1081\" y=\"-42.8\" font-family=\"Times,serif\" font-size=\"14.00\"> </text>\n<polyline fill=\"none\" stroke=\"black\" points=\"1091,-28.5 1091,-64.5 \"/>\n<text text-anchor=\"middle\" x=\"1131\" y=\"-42.8\" font-family=\"Times,serif\" font-size=\"14.00\">data 2.0000</text>\n<polyline fill=\"none\" stroke=\"black\" points=\"1171,-28.5 1171,-64.5 \"/>\n<text text-anchor=\"middle\" x=\"1218.5\" y=\"-42.8\" font-family=\"Times,serif\" font-size=\"14.00\">grad 175.3889</text>\n</g>\n<!-- 133617037465904&#45;&gt;133617037473536* -->\n<g id=\"edge22\" class=\"edge\">\n<title>133617037465904&#45;&gt;133617037473536*</title>\n<path fill=\"none\" stroke=\"black\" d=\"M1266.27,-62.98C1275.59,-64.57 1284.57,-66.1 1292.66,-67.48\"/>\n<polygon fill=\"black\" stroke=\"black\" points=\"1292.29,-70.97 1302.73,-69.2 1293.46,-64.07 1292.29,-70.97\"/>\n</g>\n<!-- 133617037463312 -->\n<g id=\"node23\" class=\"node\">\n<title>133617037463312</title>\n<polygon fill=\"none\" stroke=\"black\" points=\"1719,-110.5 1719,-146.5 1901,-146.5 1901,-110.5 1719,-110.5\"/>\n<text text-anchor=\"middle\" x=\"1729\" y=\"-124.8\" font-family=\"Times,serif\" font-size=\"14.00\"> </text>\n<polyline fill=\"none\" stroke=\"black\" points=\"1739,-110.5 1739,-146.5 \"/>\n<text text-anchor=\"middle\" x=\"1779\" y=\"-124.8\" font-family=\"Times,serif\" font-size=\"14.00\">data 1.0000</text>\n<polyline fill=\"none\" stroke=\"black\" points=\"1819,-110.5 1819,-146.5 \"/>\n<text text-anchor=\"middle\" x=\"1860\" y=\"-124.8\" font-family=\"Times,serif\" font-size=\"14.00\">grad 0.0000</text>\n</g>\n<!-- 133617037463312&#45;&gt;133617037473872+ -->\n<g id=\"edge25\" class=\"edge\">\n<title>133617037463312&#45;&gt;133617037473872+</title>\n<path fill=\"none\" stroke=\"black\" d=\"M1901.08,-112.54C1912.58,-110.5 1923.76,-108.52 1933.62,-106.77\"/>\n<polygon fill=\"black\" stroke=\"black\" points=\"1934.52,-110.16 1943.76,-104.97 1933.3,-103.27 1934.52,-110.16\"/>\n</g>\n<!-- 133617037418384 -->\n<g id=\"node24\" class=\"node\">\n<title>133617037418384</title>\n<polygon fill=\"none\" stroke=\"black\" points=\"4,-29.5 4,-65.5 196,-65.5 196,-29.5 4,-29.5\"/>\n<text text-anchor=\"middle\" x=\"19\" y=\"-43.8\" font-family=\"Times,serif\" font-size=\"14.00\">x2</text>\n<polyline fill=\"none\" stroke=\"black\" points=\"34,-29.5 34,-65.5 \"/>\n<text text-anchor=\"middle\" x=\"74\" y=\"-43.8\" font-family=\"Times,serif\" font-size=\"14.00\">data 0.0000</text>\n<polyline fill=\"none\" stroke=\"black\" points=\"114,-29.5 114,-65.5 \"/>\n<text text-anchor=\"middle\" x=\"155\" y=\"-43.8\" font-family=\"Times,serif\" font-size=\"14.00\">grad 2.0000</text>\n</g>\n<!-- 133617037418384&#45;&gt;133617037461248* -->\n<g id=\"edge12\" class=\"edge\">\n<title>133617037418384&#45;&gt;133617037461248*</title>\n<path fill=\"none\" stroke=\"black\" d=\"M169.28,-65.5C179.65,-68.61 190.16,-71.98 200,-75.5 210.28,-79.17 221.28,-83.74 231.11,-88.07\"/>\n<polygon fill=\"black\" stroke=\"black\" points=\"229.93,-91.37 240.48,-92.27 232.79,-84.99 229.93,-91.37\"/>\n</g>\n<!-- 133617037474736 -->\n<g id=\"node25\" class=\"node\">\n<title>133617037474736</title>\n<polygon fill=\"none\" stroke=\"black\" points=\"2251,-27.5 2251,-63.5 2440,-63.5 2440,-27.5 2251,-27.5\"/>\n<text text-anchor=\"middle\" x=\"2261\" y=\"-41.8\" font-family=\"Times,serif\" font-size=\"14.00\"> </text>\n<polyline fill=\"none\" stroke=\"black\" points=\"2271,-27.5 2271,-63.5 \"/>\n<text text-anchor=\"middle\" x=\"2311\" y=\"-41.8\" font-family=\"Times,serif\" font-size=\"14.00\">data 4.8284</text>\n<polyline fill=\"none\" stroke=\"black\" points=\"2351,-27.5 2351,-63.5 \"/>\n<text text-anchor=\"middle\" x=\"2395.5\" y=\"-41.8\" font-family=\"Times,serif\" font-size=\"14.00\">grad 20.4853</text>\n</g>\n<!-- 133617037474736&#45;&gt;133617037464560* -->\n<g id=\"edge28\" class=\"edge\">\n<title>133617037474736&#45;&gt;133617037464560*</title>\n<path fill=\"none\" stroke=\"black\" d=\"M2440.07,-52.14C2521.06,-57.89 2633.9,-65.89 2690.93,-69.94\"/>\n<polygon fill=\"black\" stroke=\"black\" points=\"2690.69,-73.43 2700.91,-70.65 2691.19,-66.45 2690.69,-73.43\"/>\n</g>\n<!-- 133617037474736+&#45;&gt;133617037474736 -->\n<g id=\"edge9\" class=\"edge\">\n<title>133617037474736+&#45;&gt;133617037474736</title>\n<path fill=\"none\" stroke=\"black\" d=\"M1997.26,-45.5C2047,-45.5 2157.37,-45.5 2240.41,-45.5\"/>\n<polygon fill=\"black\" stroke=\"black\" points=\"2240.66,-49 2250.66,-45.5 2240.66,-42 2240.66,-49\"/>\n</g>\n<!-- 133617037464560 -->\n<g id=\"node27\" class=\"node\">\n<title>133617037464560</title>\n<polygon fill=\"none\" stroke=\"black\" points=\"2791,-54.5 2791,-90.5 2983,-90.5 2983,-54.5 2791,-54.5\"/>\n<text text-anchor=\"middle\" x=\"2802.5\" y=\"-68.8\" font-family=\"Times,serif\" font-size=\"14.00\">o</text>\n<polyline fill=\"none\" stroke=\"black\" points=\"2814,-54.5 2814,-90.5 \"/>\n<text text-anchor=\"middle\" x=\"2857.5\" y=\"-68.8\" font-family=\"Times,serif\" font-size=\"14.00\">data 32.9706</text>\n<polyline fill=\"none\" stroke=\"black\" points=\"2901,-54.5 2901,-90.5 \"/>\n<text text-anchor=\"middle\" x=\"2942\" y=\"-68.8\" font-family=\"Times,serif\" font-size=\"14.00\">grad 1.0000</text>\n</g>\n<!-- 133617037464560*&#45;&gt;133617037464560 -->\n<g id=\"edge10\" class=\"edge\">\n<title>133617037464560*&#45;&gt;133617037464560</title>\n<path fill=\"none\" stroke=\"black\" d=\"M2755.28,-72.5C2762.78,-72.5 2771.44,-72.5 2780.67,-72.5\"/>\n<polygon fill=\"black\" stroke=\"black\" points=\"2780.87,-76 2790.87,-72.5 2780.87,-69 2780.87,-76\"/>\n</g>\n</g>\n</svg>\n",
            "text/plain": [
              "<graphviz.graphs.Digraph at 0x7986240d12a0>"
            ]
          },
          "metadata": {},
          "execution_count": 33
        }
      ]
    },
    {
      "cell_type": "code",
      "source": [
        "o.backward()"
      ],
      "metadata": {
        "id": "YURUq9rXTEEP"
      },
      "execution_count": 19,
      "outputs": []
    },
    {
      "cell_type": "code",
      "source": [
        "o.grad = 1.0"
      ],
      "metadata": {
        "id": "A8ik2NEX40Ay"
      },
      "execution_count": 20,
      "outputs": []
    },
    {
      "cell_type": "code",
      "source": [
        "#o = tanh(n)\n",
        "#do / dn = 1 - tanh(n)**2\n",
        "1- o.data**2"
      ],
      "metadata": {
        "colab": {
          "base_uri": "https://localhost:8080/"
        },
        "id": "5vjHP1Fx48Nc",
        "outputId": "e03c098d-ddba-4272-8f0a-18d0a60045d5"
      },
      "execution_count": 21,
      "outputs": [
        {
          "output_type": "execute_result",
          "data": {
            "text/plain": [
              "-1086.0580079512695"
            ]
          },
          "metadata": {},
          "execution_count": 21
        }
      ]
    },
    {
      "cell_type": "code",
      "source": [
        "n.grad = 0.5"
      ],
      "metadata": {
        "id": "a3XEsO0G7uwm"
      },
      "execution_count": 22,
      "outputs": []
    },
    {
      "cell_type": "code",
      "source": [
        "x1w1x2w2.grad = 0.5\n",
        "b.grad = 0.5"
      ],
      "metadata": {
        "id": "ZtpNKZ__8I2o"
      },
      "execution_count": 23,
      "outputs": []
    },
    {
      "cell_type": "code",
      "source": [
        "x1w1.grad = 0.5\n",
        "x2w2.grad =0.5"
      ],
      "metadata": {
        "id": "4yAR_RQp8REz"
      },
      "execution_count": 24,
      "outputs": []
    },
    {
      "cell_type": "code",
      "source": [
        "#x2w2 = x2 * w2 forward pass\n",
        "#if you want to know how change in the weight w2 affects the output of this multiplication\n",
        "# you want to find the gradient of the loss with respect to w2\n",
        "x2.grad = w2.data * x2w2.grad\n",
        "\n",
        "#this expression tells you how small change in the weight w2 will affect the final loss\n",
        "w2.grad = x2.data * x2w2.grad\n",
        "\n",
        "#x2.data => represents the value of x2, which is the derivative of the multiplication with respect to w2\n",
        "#x2w2.grad => represents the derivative of loss with respect to output of multiplication\n",
        "#w2.grad => overall derivative of the loss with respect to w2"
      ],
      "metadata": {
        "id": "_3FDAN5lAZDw"
      },
      "execution_count": 25,
      "outputs": []
    },
    {
      "cell_type": "code",
      "source": [
        "x1.grad = w1.data * x1w1.grad\n",
        "w1.grad = x1.data * x1w1.grad"
      ],
      "metadata": {
        "id": "kHmXgpFrGVBo"
      },
      "execution_count": 26,
      "outputs": []
    },
    {
      "cell_type": "code",
      "source": [
        "#when you perform backpropagation, you start computing gradient of the loss function with respect to its inputs\n",
        "o.grad = 1.0\n",
        "o._backward()"
      ],
      "metadata": {
        "id": "ugJwSUSBMxp7"
      },
      "execution_count": 27,
      "outputs": []
    },
    {
      "cell_type": "code",
      "source": [
        "n._backward()"
      ],
      "metadata": {
        "id": "fmO7QZITPeRx"
      },
      "execution_count": 28,
      "outputs": []
    },
    {
      "cell_type": "code",
      "source": [
        "b._backward()"
      ],
      "metadata": {
        "id": "cULRDY6fPmA3"
      },
      "execution_count": 29,
      "outputs": []
    },
    {
      "cell_type": "code",
      "source": [
        "x1w1x2w2._backward()"
      ],
      "metadata": {
        "id": "h22LpfPhPuZE"
      },
      "execution_count": 30,
      "outputs": []
    },
    {
      "cell_type": "code",
      "source": [
        "x2w2._backward()\n",
        "x1w1._backward()"
      ],
      "metadata": {
        "id": "ydybdTGJQWPj"
      },
      "execution_count": 31,
      "outputs": []
    },
    {
      "cell_type": "code",
      "source": [
        "a = Value(-2, label='a')\n",
        "b = Value(3.0, label='b')\n",
        "d = a * b; d.label='d'\n",
        "e = a + b; e.label='e'\n",
        "f = d*e; f.label='f'\n",
        "\n",
        "f.backward()\n",
        "draw_dot(f)"
      ],
      "metadata": {
        "colab": {
          "base_uri": "https://localhost:8080/",
          "height": 174
        },
        "id": "YpmwMiXxQoWN",
        "outputId": "696124a4-e7c4-4238-c32a-e2b8a8f14b79"
      },
      "execution_count": 32,
      "outputs": [
        {
          "output_type": "execute_result",
          "data": {
            "image/svg+xml": "<?xml version=\"1.0\" encoding=\"UTF-8\" standalone=\"no\"?>\n<!DOCTYPE svg PUBLIC \"-//W3C//DTD SVG 1.1//EN\"\n \"http://www.w3.org/Graphics/SVG/1.1/DTD/svg11.dtd\">\n<!-- Generated by graphviz version 2.43.0 (0)\n -->\n<!-- Title: %3 Pages: 1 -->\n<svg width=\"832pt\" height=\"100pt\"\n viewBox=\"0.00 0.00 832.00 100.00\" xmlns=\"http://www.w3.org/2000/svg\" xmlns:xlink=\"http://www.w3.org/1999/xlink\">\n<g id=\"graph0\" class=\"graph\" transform=\"scale(1 1) rotate(0) translate(4 96)\">\n<title>%3</title>\n<polygon fill=\"white\" stroke=\"transparent\" points=\"-4,4 -4,-96 828,-96 828,4 -4,4\"/>\n<!-- 133617037415936 -->\n<g id=\"node1\" class=\"node\">\n<title>133617037415936</title>\n<polygon fill=\"none\" stroke=\"black\" points=\"320,-55.5 320,-91.5 510,-91.5 510,-55.5 320,-55.5\"/>\n<text text-anchor=\"middle\" x=\"331.5\" y=\"-69.8\" font-family=\"Times,serif\" font-size=\"14.00\">d</text>\n<polyline fill=\"none\" stroke=\"black\" points=\"343,-55.5 343,-91.5 \"/>\n<text text-anchor=\"middle\" x=\"385.5\" y=\"-69.8\" font-family=\"Times,serif\" font-size=\"14.00\">data &#45;6.0000</text>\n<polyline fill=\"none\" stroke=\"black\" points=\"428,-55.5 428,-91.5 \"/>\n<text text-anchor=\"middle\" x=\"469\" y=\"-69.8\" font-family=\"Times,serif\" font-size=\"14.00\">grad 1.0000</text>\n</g>\n<!-- 133617037414928* -->\n<g id=\"node4\" class=\"node\">\n<title>133617037414928*</title>\n<ellipse fill=\"none\" stroke=\"black\" cx=\"573\" cy=\"-45.5\" rx=\"27\" ry=\"18\"/>\n<text text-anchor=\"middle\" x=\"573\" y=\"-41.8\" font-family=\"Times,serif\" font-size=\"14.00\">*</text>\n</g>\n<!-- 133617037415936&#45;&gt;133617037414928* -->\n<g id=\"edge8\" class=\"edge\">\n<title>133617037415936&#45;&gt;133617037414928*</title>\n<path fill=\"none\" stroke=\"black\" d=\"M510.34,-56.57C519.62,-54.9 528.58,-53.29 536.66,-51.84\"/>\n<polygon fill=\"black\" stroke=\"black\" points=\"537.49,-55.25 546.72,-50.04 536.26,-48.36 537.49,-55.25\"/>\n</g>\n<!-- 133617037415936* -->\n<g id=\"node2\" class=\"node\">\n<title>133617037415936*</title>\n<ellipse fill=\"none\" stroke=\"black\" cx=\"257\" cy=\"-73.5\" rx=\"27\" ry=\"18\"/>\n<text text-anchor=\"middle\" x=\"257\" y=\"-69.8\" font-family=\"Times,serif\" font-size=\"14.00\">*</text>\n</g>\n<!-- 133617037415936*&#45;&gt;133617037415936 -->\n<g id=\"edge1\" class=\"edge\">\n<title>133617037415936*&#45;&gt;133617037415936</title>\n<path fill=\"none\" stroke=\"black\" d=\"M284.11,-73.5C291.63,-73.5 300.32,-73.5 309.58,-73.5\"/>\n<polygon fill=\"black\" stroke=\"black\" points=\"309.81,-77 319.81,-73.5 309.81,-70 309.81,-77\"/>\n</g>\n<!-- 133617037414928 -->\n<g id=\"node3\" class=\"node\">\n<title>133617037414928</title>\n<polygon fill=\"none\" stroke=\"black\" points=\"636,-27.5 636,-63.5 824,-63.5 824,-27.5 636,-27.5\"/>\n<text text-anchor=\"middle\" x=\"646.5\" y=\"-41.8\" font-family=\"Times,serif\" font-size=\"14.00\">f</text>\n<polyline fill=\"none\" stroke=\"black\" points=\"657,-27.5 657,-63.5 \"/>\n<text text-anchor=\"middle\" x=\"699.5\" y=\"-41.8\" font-family=\"Times,serif\" font-size=\"14.00\">data &#45;6.0000</text>\n<polyline fill=\"none\" stroke=\"black\" points=\"742,-27.5 742,-63.5 \"/>\n<text text-anchor=\"middle\" x=\"783\" y=\"-41.8\" font-family=\"Times,serif\" font-size=\"14.00\">grad 1.0000</text>\n</g>\n<!-- 133617037414928*&#45;&gt;133617037414928 -->\n<g id=\"edge2\" class=\"edge\">\n<title>133617037414928*&#45;&gt;133617037414928</title>\n<path fill=\"none\" stroke=\"black\" d=\"M600.29,-45.5C607.78,-45.5 616.42,-45.5 625.6,-45.5\"/>\n<polygon fill=\"black\" stroke=\"black\" points=\"625.76,-49 635.76,-45.5 625.76,-42 625.76,-49\"/>\n</g>\n<!-- 133617037418096 -->\n<g id=\"node5\" class=\"node\">\n<title>133617037418096</title>\n<polygon fill=\"none\" stroke=\"black\" points=\"320.5,-0.5 320.5,-36.5 509.5,-36.5 509.5,-0.5 320.5,-0.5\"/>\n<text text-anchor=\"middle\" x=\"332\" y=\"-14.8\" font-family=\"Times,serif\" font-size=\"14.00\">e</text>\n<polyline fill=\"none\" stroke=\"black\" points=\"343.5,-0.5 343.5,-36.5 \"/>\n<text text-anchor=\"middle\" x=\"383.5\" y=\"-14.8\" font-family=\"Times,serif\" font-size=\"14.00\">data 1.0000</text>\n<polyline fill=\"none\" stroke=\"black\" points=\"423.5,-0.5 423.5,-36.5 \"/>\n<text text-anchor=\"middle\" x=\"466.5\" y=\"-14.8\" font-family=\"Times,serif\" font-size=\"14.00\">grad &#45;6.0000</text>\n</g>\n<!-- 133617037418096&#45;&gt;133617037414928* -->\n<g id=\"edge6\" class=\"edge\">\n<title>133617037418096&#45;&gt;133617037414928*</title>\n<path fill=\"none\" stroke=\"black\" d=\"M509.9,-34.75C519.33,-36.38 528.45,-37.96 536.65,-39.38\"/>\n<polygon fill=\"black\" stroke=\"black\" points=\"536.06,-42.83 546.51,-41.09 537.26,-35.93 536.06,-42.83\"/>\n</g>\n<!-- 133617037418096+ -->\n<g id=\"node6\" class=\"node\">\n<title>133617037418096+</title>\n<ellipse fill=\"none\" stroke=\"black\" cx=\"257\" cy=\"-18.5\" rx=\"27\" ry=\"18\"/>\n<text text-anchor=\"middle\" x=\"257\" y=\"-14.8\" font-family=\"Times,serif\" font-size=\"14.00\">+</text>\n</g>\n<!-- 133617037418096+&#45;&gt;133617037418096 -->\n<g id=\"edge3\" class=\"edge\">\n<title>133617037418096+&#45;&gt;133617037418096</title>\n<path fill=\"none\" stroke=\"black\" d=\"M284.11,-18.5C291.84,-18.5 300.8,-18.5 310.35,-18.5\"/>\n<polygon fill=\"black\" stroke=\"black\" points=\"310.48,-22 320.48,-18.5 310.48,-15 310.48,-22\"/>\n</g>\n<!-- 133617037417616 -->\n<g id=\"node7\" class=\"node\">\n<title>133617037417616</title>\n<polygon fill=\"none\" stroke=\"black\" points=\"2.5,-55.5 2.5,-91.5 191.5,-91.5 191.5,-55.5 2.5,-55.5\"/>\n<text text-anchor=\"middle\" x=\"14\" y=\"-69.8\" font-family=\"Times,serif\" font-size=\"14.00\">b</text>\n<polyline fill=\"none\" stroke=\"black\" points=\"25.5,-55.5 25.5,-91.5 \"/>\n<text text-anchor=\"middle\" x=\"65.5\" y=\"-69.8\" font-family=\"Times,serif\" font-size=\"14.00\">data 3.0000</text>\n<polyline fill=\"none\" stroke=\"black\" points=\"105.5,-55.5 105.5,-91.5 \"/>\n<text text-anchor=\"middle\" x=\"148.5\" y=\"-69.8\" font-family=\"Times,serif\" font-size=\"14.00\">grad &#45;8.0000</text>\n</g>\n<!-- 133617037417616&#45;&gt;133617037415936* -->\n<g id=\"edge7\" class=\"edge\">\n<title>133617037417616&#45;&gt;133617037415936*</title>\n<path fill=\"none\" stroke=\"black\" d=\"M191.74,-73.5C201.55,-73.5 211.04,-73.5 219.59,-73.5\"/>\n<polygon fill=\"black\" stroke=\"black\" points=\"219.87,-77 229.87,-73.5 219.87,-70 219.87,-77\"/>\n</g>\n<!-- 133617037417616&#45;&gt;133617037418096+ -->\n<g id=\"edge9\" class=\"edge\">\n<title>133617037417616&#45;&gt;133617037418096+</title>\n<path fill=\"none\" stroke=\"black\" d=\"M166.84,-55.49C176.04,-52.69 185.3,-49.67 194,-46.5 204.51,-42.67 215.73,-37.84 225.7,-33.28\"/>\n<polygon fill=\"black\" stroke=\"black\" points=\"227.23,-36.43 234.81,-29.02 224.27,-30.09 227.23,-36.43\"/>\n</g>\n<!-- 133617037417808 -->\n<g id=\"node8\" class=\"node\">\n<title>133617037417808</title>\n<polygon fill=\"none\" stroke=\"black\" points=\"0,-0.5 0,-36.5 194,-36.5 194,-0.5 0,-0.5\"/>\n<text text-anchor=\"middle\" x=\"11.5\" y=\"-14.8\" font-family=\"Times,serif\" font-size=\"14.00\">a</text>\n<polyline fill=\"none\" stroke=\"black\" points=\"23,-0.5 23,-36.5 \"/>\n<text text-anchor=\"middle\" x=\"65.5\" y=\"-14.8\" font-family=\"Times,serif\" font-size=\"14.00\">data &#45;2.0000</text>\n<polyline fill=\"none\" stroke=\"black\" points=\"108,-0.5 108,-36.5 \"/>\n<text text-anchor=\"middle\" x=\"151\" y=\"-14.8\" font-family=\"Times,serif\" font-size=\"14.00\">grad &#45;3.0000</text>\n</g>\n<!-- 133617037417808&#45;&gt;133617037415936* -->\n<g id=\"edge4\" class=\"edge\">\n<title>133617037417808&#45;&gt;133617037415936*</title>\n<path fill=\"none\" stroke=\"black\" d=\"M163.94,-36.53C174.08,-39.65 184.37,-43.01 194,-46.5 204.27,-50.22 215.26,-54.8 225.09,-59.12\"/>\n<polygon fill=\"black\" stroke=\"black\" points=\"223.91,-62.43 234.47,-63.32 226.77,-56.04 223.91,-62.43\"/>\n</g>\n<!-- 133617037417808&#45;&gt;133617037418096+ -->\n<g id=\"edge5\" class=\"edge\">\n<title>133617037417808&#45;&gt;133617037418096+</title>\n<path fill=\"none\" stroke=\"black\" d=\"M194.01,-18.5C202.98,-18.5 211.65,-18.5 219.51,-18.5\"/>\n<polygon fill=\"black\" stroke=\"black\" points=\"219.7,-22 229.7,-18.5 219.7,-15 219.7,-22\"/>\n</g>\n</g>\n</svg>\n",
            "text/plain": [
              "<graphviz.graphs.Digraph at 0x7986240d1300>"
            ]
          },
          "metadata": {},
          "execution_count": 32
        }
      ]
    }
  ]
}